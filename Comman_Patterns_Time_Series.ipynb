{
  "nbformat": 4,
  "nbformat_minor": 0,
  "metadata": {
    "colab": {
      "name": "Comman_Patterns_Time_Series.ipynb",
      "private_outputs": true,
      "provenance": [],
      "authorship_tag": "ABX9TyNQSij7HXAw2fLeJ33AHmck",
      "include_colab_link": true
    },
    "kernelspec": {
      "name": "python3",
      "display_name": "Python 3"
    },
    "language_info": {
      "name": "python"
    }
  },
  "cells": [
    {
      "cell_type": "markdown",
      "metadata": {
        "id": "view-in-github",
        "colab_type": "text"
      },
      "source": [
        "<a href=\"https://colab.research.google.com/github/mspatke/Deep-Learning-with-Tensorflow/blob/main/Comman_Patterns_Time_Series.ipynb\" target=\"_parent\"><img src=\"https://colab.research.google.com/assets/colab-badge.svg\" alt=\"Open In Colab\"/></a>"
      ]
    },
    {
      "cell_type": "code",
      "execution_count": null,
      "metadata": {
        "id": "ukuwOrS885ri"
      },
      "outputs": [],
      "source": [
        "import numpy as np\n",
        "import matplotlib.pyplot as plt"
      ]
    },
    {
      "cell_type": "code",
      "source": [
        "def plot_series(time, series, format='-', start=0, end= None, label=None):\n",
        "  \n",
        "  plt.plot(time[start:end], series[start:end], format, label= label)\n",
        "  plt.xlabel(\"Time\")\n",
        "  plt.ylabel(\"Value\")\n",
        "  \n",
        "  if label:\n",
        "    plt.legend(fontsize=14)\n",
        "  \n",
        "  plt.grid(True)"
      ],
      "metadata": {
        "id": "kJZuc6TK9K2e"
      },
      "execution_count": null,
      "outputs": []
    },
    {
      "cell_type": "code",
      "source": [
        "#Time and Seasonality\n",
        "\n",
        "def trend(time, slope=0):\n",
        "  return slope * time"
      ],
      "metadata": {
        "id": "TeOAdjKR9tIT"
      },
      "execution_count": null,
      "outputs": []
    },
    {
      "cell_type": "code",
      "source": [
        "time = np.arange(4 * 365 + 1)\n",
        "baseline = 10\n",
        "series = baseline + trend(time , 0.6)\n",
        "\n",
        "plt.figure(figsize=(10,6))\n",
        "plot_series(time,series)\n",
        "plt.show()\n"
      ],
      "metadata": {
        "id": "CoHh57ne92gR"
      },
      "execution_count": null,
      "outputs": []
    },
    {
      "cell_type": "code",
      "source": [
        "time"
      ],
      "metadata": {
        "id": "CirZ6cs8-pd1"
      },
      "execution_count": null,
      "outputs": []
    },
    {
      "cell_type": "code",
      "source": [
        "series"
      ],
      "metadata": {
        "id": "9NmSWBv--l-m"
      },
      "execution_count": null,
      "outputs": []
    },
    {
      "cell_type": "code",
      "source": [
        "#Let's Generate a time series with a seasonal pattern\n",
        "\n",
        "def seasonal_pattern(season_time):\n",
        "  \n",
        "  return np.where(season_time < 0.4, np.cos(season_time * 2* np.pi), 1/np.exp(3 * season_time))"
      ],
      "metadata": {
        "id": "s-QzaACb_RRi"
      },
      "execution_count": null,
      "outputs": []
    },
    {
      "cell_type": "code",
      "source": [
        "def seasonality(time, period, amplitude = 1 , phase = 0):\n",
        "  \n",
        "  season_time = ((time + phase) % period)/period\n",
        "  \n",
        "  return amplitude * seasonal_pattern(season_time)"
      ],
      "metadata": {
        "id": "J4HKtyZC_vDc"
      },
      "execution_count": null,
      "outputs": []
    },
    {
      "cell_type": "code",
      "source": [
        "amplitude = 40\n",
        "series = seasonality(time, period =365, amplitude = amplitude)\n",
        "\n",
        "plt.figure(figsize=(10,6))\n",
        "plot_series(time, series)\n",
        "plt.show()"
      ],
      "metadata": {
        "id": "uEfnnIWsAUfw"
      },
      "execution_count": null,
      "outputs": []
    },
    {
      "cell_type": "code",
      "source": [
        "#create a time series with both trend and seasonality\n",
        "\n",
        "slope= 0.05\n",
        "series = baseline + trend(time , slope) + seasonality(time, period=365, amplitude=amplitude)\n",
        "\n",
        "plt.figure(figsize=(10,6))\n",
        "plot_series(time,series)\n",
        "plt.show()"
      ],
      "metadata": {
        "id": "ZCjD93lyAkKG"
      },
      "execution_count": null,
      "outputs": []
    },
    {
      "cell_type": "code",
      "source": [
        "#Noise\n",
        "\n",
        "def white_noise(time, noise_level=1, seed=None):\n",
        "  rnd = np.random.RandomState(seed)\n",
        "  return rnd.randn(len(time)) * noise_level"
      ],
      "metadata": {
        "id": "1LdK9-tDCJOs"
      },
      "execution_count": null,
      "outputs": []
    },
    {
      "cell_type": "code",
      "source": [
        "noise_level = 5\n",
        "noise = white_noise(time, noise_level, seed=42)\n",
        "\n",
        "plt.figure(figsize=(10,6))\n",
        "plot_series(time, noise)\n",
        "plt.show()\n"
      ],
      "metadata": {
        "id": "beomn9jcDHvh"
      },
      "execution_count": null,
      "outputs": []
    },
    {
      "cell_type": "code",
      "source": [
        "series +=noise \n",
        "\n",
        "plt.figure(figsize=(10,6))\n",
        "plot_series(time,series)\n",
        "plt.show()"
      ],
      "metadata": {
        "id": "8L_poLVRLt30"
      },
      "execution_count": null,
      "outputs": []
    },
    {
      "cell_type": "code",
      "source": [
        ""
      ],
      "metadata": {
        "id": "lAJ3t3pVM2So"
      },
      "execution_count": null,
      "outputs": []
    }
  ]
}