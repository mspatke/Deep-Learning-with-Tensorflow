{
  "nbformat": 4,
  "nbformat_minor": 0,
  "metadata": {
    "colab": {
      "provenance": [],
      "authorship_tag": "ABX9TyPW6NYWX5REdRUjqH9Z1Jnu",
      "include_colab_link": true
    },
    "kernelspec": {
      "name": "python3",
      "display_name": "Python 3"
    },
    "language_info": {
      "name": "python"
    }
  },
  "cells": [
    {
      "cell_type": "markdown",
      "metadata": {
        "id": "view-in-github",
        "colab_type": "text"
      },
      "source": [
        "<a href=\"https://colab.research.google.com/github/mspatke/Deep-Learning-with-Tensorflow/blob/main/Spam_Classification_ANN.ipynb\" target=\"_parent\"><img src=\"https://colab.research.google.com/assets/colab-badge.svg\" alt=\"Open In Colab\"/></a>"
      ]
    },
    {
      "cell_type": "markdown",
      "source": [
        "### 5.1. Setup\n",
        "\n",
        "Install required text processing libraries for the example"
      ],
      "metadata": {
        "id": "TZzXjbBWrUIy"
      }
    },
    {
      "cell_type": "code",
      "source": [
        "# !pip install nltk"
      ],
      "metadata": {
        "id": "UNHZzCI1rX31"
      },
      "execution_count": 4,
      "outputs": []
    },
    {
      "cell_type": "code",
      "source": [
        "import nltk\n",
        "\n",
        "nltk.download('stopwords')\n",
        "nltk.download('punkt')\n",
        "\n",
        "from nltk.corpus import stopwords\n",
        "\n",
        "nltk.download('wordnet')\n",
        "\n",
        "from nltk.stem import WordNetLemmatizer\n",
        "lemmatizer = WordNetLemmatizer()"
      ],
      "metadata": {
        "colab": {
          "base_uri": "https://localhost:8080/"
        },
        "id": "eZuMD0SJrxuj",
        "outputId": "e3aa6f4c-6099-4dfa-d9c9-0f080a9894d1"
      },
      "execution_count": 5,
      "outputs": [
        {
          "output_type": "stream",
          "name": "stderr",
          "text": [
            "[nltk_data] Downloading package stopwords to /root/nltk_data...\n",
            "[nltk_data]   Unzipping corpora/stopwords.zip.\n",
            "[nltk_data] Downloading package punkt to /root/nltk_data...\n",
            "[nltk_data]   Unzipping tokenizers/punkt.zip.\n",
            "[nltk_data] Downloading package wordnet to /root/nltk_data...\n"
          ]
        }
      ]
    },
    {
      "cell_type": "markdown",
      "source": [
        "### 5.2. Creating Text Representations\n",
        "\n",
        "Text data needs to be converted to numeric representations before they can be used to train deep learning models. The Spam classification feature data is converted to TF-IDF vectors and the target variable is converted to one-hot encoding."
      ],
      "metadata": {
        "id": "pC7c8psNsZgp"
      }
    },
    {
      "cell_type": "code",
      "source": [
        "import pandas as pd\n",
        "import numpy as np\n",
        "from sklearn.model_selection import train_test_split\n",
        "from sklearn.preprocessing import scale\n",
        "\n",
        "#load spam data and review content\n",
        "spam_data = pd.read_csv(\"Spam-Classification.csv\")\n",
        "\n",
        "print(\"\\nLoaded Data :\\n------------------------------------\")\n",
        "print(spam_data.head())"
      ],
      "metadata": {
        "colab": {
          "base_uri": "https://localhost:8080/"
        },
        "id": "fQm0A_4qsaVp",
        "outputId": "b79c20de-4b89-47b8-c090-90fb4b6f0004"
      },
      "execution_count": 6,
      "outputs": [
        {
          "output_type": "stream",
          "name": "stdout",
          "text": [
            "\n",
            "Loaded Data :\n",
            "------------------------------------\n",
            "  CLASS                                                SMS\n",
            "0   ham   said kiss, kiss, i can't do the sound effects...\n",
            "1   ham      &lt;#&gt; ISH MINUTES WAS 5 MINUTES AGO. WTF.\n",
            "2  spam  (Bank of Granite issues Strong-Buy) EXPLOSIVE ...\n",
            "3  spam  * FREE* POLYPHONIC RINGTONE Text SUPER to 8713...\n",
            "4  spam  **FREE MESSAGE**Thanks for using the Auction S...\n"
          ]
        }
      ]
    },
    {
      "cell_type": "code",
      "source": [
        "#Separate feature and target data\n",
        "spam_classes_raw = spam_data[\"CLASS\"]\n",
        "spam_messages = spam_data[\"SMS\"]"
      ],
      "metadata": {
        "id": "PGg1Wk37tAY3"
      },
      "execution_count": 7,
      "outputs": []
    },
    {
      "cell_type": "code",
      "source": [
        "import nltk\n",
        "import tensorflow as tf\n",
        "\n",
        "\n",
        "def customtokenize(str):\n",
        "\n",
        "  tokens= nltk.word_tokenize(str)\n",
        "  nostop = list(filter(lambda token: token not in stopwords.words('english'), tokens))\n",
        "  lemmatized = [lemmatizer.lemmatize(word) for word in nostop]\n",
        "  return lemmatized\n",
        "\n",
        "\n",
        "\n",
        "\n",
        "\n",
        "from sklearn.feature_extraction.text import TfidfVectorizer\n",
        "\n",
        "vectorizer = TfidfVectorizer(tokenizer=customtokenize)\n",
        "#transform feature input to TF-IDF\n",
        "tfidf=vectorizer.fit_transform(spam_messages)\n",
        "tfidf_array =tfidf.toarray()\n"
      ],
      "metadata": {
        "colab": {
          "base_uri": "https://localhost:8080/"
        },
        "id": "T4E7d7zRtYFH",
        "outputId": "9840cc21-707f-44a2-9cbc-4233f6daca5f"
      },
      "execution_count": 9,
      "outputs": [
        {
          "output_type": "stream",
          "name": "stderr",
          "text": [
            "/usr/local/lib/python3.10/dist-packages/sklearn/feature_extraction/text.py:528: UserWarning: The parameter 'token_pattern' will not be used since 'tokenizer' is not None'\n",
            "  warnings.warn(\n"
          ]
        }
      ]
    },
    {
      "cell_type": "code",
      "source": [
        "\n",
        "#Build a label encoder for target variable to convert strings to numeric values.\n",
        "from sklearn import preprocessing\n",
        "label_encoder = preprocessing.LabelEncoder()\n",
        "\n",
        "spam_classes = label_encoder.fit_transform(spam_classes_raw)\n",
        "\n",
        "#Convert target to one-hot encoding vector\n",
        "spam_classes = tf.keras.utils.to_categorical(spam_classes,2)"
      ],
      "metadata": {
        "id": "tRcuEBXPIyia"
      },
      "execution_count": 14,
      "outputs": []
    },
    {
      "cell_type": "code",
      "source": [
        "print(\"TF-IDF Matrix Shape : \", tfidf.shape)\n",
        "print(\"One-hot Encoding Shape : \", spam_classes.shape)\n",
        "\n",
        "X_train,X_test,Y_train,Y_test = train_test_split( tfidf_array, spam_classes, test_size=0.10)"
      ],
      "metadata": {
        "colab": {
          "base_uri": "https://localhost:8080/"
        },
        "id": "9oiM2wS6vMQX",
        "outputId": "e531dff8-61b8-4f81-dc63-d56b5eba43c1"
      },
      "execution_count": 16,
      "outputs": [
        {
          "output_type": "stream",
          "name": "stdout",
          "text": [
            "TF-IDF Matrix Shape :  (1500, 4566)\n",
            "One-hot Encoding Shape :  (1500, 2)\n"
          ]
        }
      ]
    },
    {
      "cell_type": "code",
      "source": [
        "X_train.shape"
      ],
      "metadata": {
        "colab": {
          "base_uri": "https://localhost:8080/"
        },
        "id": "xCfBO1iNKTWn",
        "outputId": "cf698db6-d0b5-4918-fed9-d397a957653f"
      },
      "execution_count": 17,
      "outputs": [
        {
          "output_type": "execute_result",
          "data": {
            "text/plain": [
              "(1350, 4566)"
            ]
          },
          "metadata": {},
          "execution_count": 17
        }
      ]
    },
    {
      "cell_type": "markdown",
      "source": [
        "### 5.3. Building and Evaluating the Model"
      ],
      "metadata": {
        "id": "PULBS7MOJ_U6"
      }
    },
    {
      "cell_type": "code",
      "source": [
        "from tensorflow import keras\n",
        "from tensorflow.keras import optimizers\n",
        "from tensorflow.keras.regularizers import l2\n",
        "\n",
        "#Setup Hyper Parameters for building the model\n",
        "NB_CLASSES=2\n",
        "N_HIDDEN=32\n",
        "\n",
        "\n",
        "\n",
        "model = tf.keras.models.Sequential()\n",
        "\n",
        "model.add(keras.layers.Dense( N_HIDDEN,\n",
        "                             input_shape=(X_train.shape[1],),\n",
        "                             name ='Hidden-Layer-1',\n",
        "                             activation = 'relu'))\n",
        "\n",
        "\n",
        "model.add(keras.layers.Dense(N_HIDDEN,\n",
        "                             name ='Hidden-Layer-2',\n",
        "                             activation = 'relu')),\n",
        "\n",
        "\n",
        "model.add(keras.layers.Dense(NB_CLASSES,\n",
        "                             name='Output-Layer',\n",
        "                             activation='softmax'))\n",
        "\n",
        "model.compile(loss='categorical_crossentropy',metrics=['accuracy'])\n",
        "\n",
        "model.summary()"
      ],
      "metadata": {
        "colab": {
          "base_uri": "https://localhost:8080/"
        },
        "id": "vmSoOeV7JwS8",
        "outputId": "a9043315-6936-40d0-e380-876d0689bfd6"
      },
      "execution_count": 27,
      "outputs": [
        {
          "output_type": "stream",
          "name": "stdout",
          "text": [
            "Model: \"sequential_2\"\n",
            "_________________________________________________________________\n",
            " Layer (type)                Output Shape              Param #   \n",
            "=================================================================\n",
            " Hidden-Layer-1 (Dense)      (None, 32)                146144    \n",
            "                                                                 \n",
            " Hidden-Layer-2 (Dense)      (None, 32)                1056      \n",
            "                                                                 \n",
            " Output-Layer (Dense)        (None, 2)                 66        \n",
            "                                                                 \n",
            "=================================================================\n",
            "Total params: 147266 (575.26 KB)\n",
            "Trainable params: 147266 (575.26 KB)\n",
            "Non-trainable params: 0 (0.00 Byte)\n",
            "_________________________________________________________________\n"
          ]
        }
      ]
    },
    {
      "cell_type": "code",
      "source": [
        "4566//256"
      ],
      "metadata": {
        "colab": {
          "base_uri": "https://localhost:8080/"
        },
        "id": "-AMN72AZLafu",
        "outputId": "98f8baf2-ce19-40f3-dc11-e851c0812dba"
      },
      "execution_count": 28,
      "outputs": [
        {
          "output_type": "execute_result",
          "data": {
            "text/plain": [
              "17"
            ]
          },
          "metadata": {},
          "execution_count": 28
        }
      ]
    },
    {
      "cell_type": "code",
      "source": [
        "#Make it verbose so we can see the progress\n",
        "VERBOSE=1\n",
        "\n",
        "#Setup Hyper Parameters for training\n",
        "BATCH_SIZE=256\n",
        "EPOCHS=50\n",
        "VALIDATION_SPLIT=0.2\n",
        "\n",
        "print(\"\\nTraining Progress:\\n------------------------------------\")\n",
        "\n",
        "history=model.fit(X_train,\n",
        "          Y_train,\n",
        "          batch_size=BATCH_SIZE,\n",
        "          epochs=EPOCHS,\n",
        "          verbose=VERBOSE,\n",
        "          validation_split=VALIDATION_SPLIT)\n",
        "\n",
        "print(\"\\nAccuracy during Training :\\n------------------------------------\")\n",
        "import matplotlib.pyplot as plt\n",
        "\n",
        "pd.DataFrame(history.history)[\"accuracy\"].plot(figsize=(8, 5))\n",
        "plt.title(\"Accuracy improvements with Epoch\")\n",
        "plt.show()\n",
        "\n",
        "print(\"\\nEvaluation against Test Dataset :\\n------------------------------------\")\n",
        "model.evaluate(X_test,Y_test)"
      ],
      "metadata": {
        "colab": {
          "base_uri": "https://localhost:8080/",
          "height": 1000
        },
        "id": "QGtxrdY1KuWb",
        "outputId": "a121dda7-dd15-45a6-8e6c-631bc8a1dcf0"
      },
      "execution_count": 29,
      "outputs": [
        {
          "output_type": "stream",
          "name": "stdout",
          "text": [
            "\n",
            "Training Progress:\n",
            "------------------------------------\n",
            "Epoch 1/50\n",
            "5/5 [==============================] - 1s 63ms/step - loss: 0.6900 - accuracy: 0.5926 - val_loss: 0.6814 - val_accuracy: 0.7259\n",
            "Epoch 2/50\n",
            "5/5 [==============================] - 0s 19ms/step - loss: 0.6721 - accuracy: 0.8333 - val_loss: 0.6612 - val_accuracy: 0.9000\n",
            "Epoch 3/50\n",
            "5/5 [==============================] - 0s 20ms/step - loss: 0.6414 - accuracy: 0.9370 - val_loss: 0.6256 - val_accuracy: 0.9296\n",
            "Epoch 4/50\n",
            "5/5 [==============================] - 0s 17ms/step - loss: 0.5988 - accuracy: 0.9630 - val_loss: 0.5839 - val_accuracy: 0.9519\n",
            "Epoch 5/50\n",
            "5/5 [==============================] - 0s 17ms/step - loss: 0.5477 - accuracy: 0.9778 - val_loss: 0.5385 - val_accuracy: 0.9519\n",
            "Epoch 6/50\n",
            "5/5 [==============================] - 0s 20ms/step - loss: 0.4934 - accuracy: 0.9806 - val_loss: 0.4915 - val_accuracy: 0.9556\n",
            "Epoch 7/50\n",
            "5/5 [==============================] - 0s 16ms/step - loss: 0.4383 - accuracy: 0.9861 - val_loss: 0.4454 - val_accuracy: 0.9519\n",
            "Epoch 8/50\n",
            "5/5 [==============================] - 0s 16ms/step - loss: 0.3844 - accuracy: 0.9870 - val_loss: 0.4011 - val_accuracy: 0.9519\n",
            "Epoch 9/50\n",
            "5/5 [==============================] - 0s 19ms/step - loss: 0.3335 - accuracy: 0.9852 - val_loss: 0.3600 - val_accuracy: 0.9556\n",
            "Epoch 10/50\n",
            "5/5 [==============================] - 0s 16ms/step - loss: 0.2870 - accuracy: 0.9861 - val_loss: 0.3231 - val_accuracy: 0.9667\n",
            "Epoch 11/50\n",
            "5/5 [==============================] - 0s 17ms/step - loss: 0.2459 - accuracy: 0.9880 - val_loss: 0.2904 - val_accuracy: 0.9556\n",
            "Epoch 12/50\n",
            "5/5 [==============================] - 0s 23ms/step - loss: 0.2096 - accuracy: 0.9898 - val_loss: 0.2612 - val_accuracy: 0.9667\n",
            "Epoch 13/50\n",
            "5/5 [==============================] - 0s 19ms/step - loss: 0.1776 - accuracy: 0.9907 - val_loss: 0.2353 - val_accuracy: 0.9667\n",
            "Epoch 14/50\n",
            "5/5 [==============================] - 0s 17ms/step - loss: 0.1497 - accuracy: 0.9917 - val_loss: 0.2130 - val_accuracy: 0.9667\n",
            "Epoch 15/50\n",
            "5/5 [==============================] - 0s 17ms/step - loss: 0.1262 - accuracy: 0.9926 - val_loss: 0.1939 - val_accuracy: 0.9667\n",
            "Epoch 16/50\n",
            "5/5 [==============================] - 0s 15ms/step - loss: 0.1062 - accuracy: 0.9926 - val_loss: 0.1778 - val_accuracy: 0.9704\n",
            "Epoch 17/50\n",
            "5/5 [==============================] - 0s 18ms/step - loss: 0.0895 - accuracy: 0.9954 - val_loss: 0.1653 - val_accuracy: 0.9704\n",
            "Epoch 18/50\n",
            "5/5 [==============================] - 0s 20ms/step - loss: 0.0755 - accuracy: 0.9963 - val_loss: 0.1535 - val_accuracy: 0.9667\n",
            "Epoch 19/50\n",
            "5/5 [==============================] - 0s 19ms/step - loss: 0.0637 - accuracy: 0.9972 - val_loss: 0.1453 - val_accuracy: 0.9667\n",
            "Epoch 20/50\n",
            "5/5 [==============================] - 0s 20ms/step - loss: 0.0538 - accuracy: 0.9981 - val_loss: 0.1367 - val_accuracy: 0.9704\n",
            "Epoch 21/50\n",
            "5/5 [==============================] - 0s 16ms/step - loss: 0.0454 - accuracy: 0.9981 - val_loss: 0.1299 - val_accuracy: 0.9704\n",
            "Epoch 22/50\n",
            "5/5 [==============================] - 0s 20ms/step - loss: 0.0383 - accuracy: 0.9981 - val_loss: 0.1234 - val_accuracy: 0.9667\n",
            "Epoch 23/50\n",
            "5/5 [==============================] - 0s 21ms/step - loss: 0.0324 - accuracy: 0.9981 - val_loss: 0.1213 - val_accuracy: 0.9630\n",
            "Epoch 24/50\n",
            "5/5 [==============================] - 0s 17ms/step - loss: 0.0276 - accuracy: 1.0000 - val_loss: 0.1147 - val_accuracy: 0.9667\n",
            "Epoch 25/50\n",
            "5/5 [==============================] - 0s 16ms/step - loss: 0.0231 - accuracy: 1.0000 - val_loss: 0.1114 - val_accuracy: 0.9667\n",
            "Epoch 26/50\n",
            "5/5 [==============================] - 0s 18ms/step - loss: 0.0196 - accuracy: 1.0000 - val_loss: 0.1084 - val_accuracy: 0.9667\n",
            "Epoch 27/50\n",
            "5/5 [==============================] - 0s 20ms/step - loss: 0.0165 - accuracy: 1.0000 - val_loss: 0.1065 - val_accuracy: 0.9667\n",
            "Epoch 28/50\n",
            "5/5 [==============================] - 0s 16ms/step - loss: 0.0140 - accuracy: 1.0000 - val_loss: 0.1065 - val_accuracy: 0.9667\n",
            "Epoch 29/50\n",
            "5/5 [==============================] - 0s 21ms/step - loss: 0.0120 - accuracy: 1.0000 - val_loss: 0.1035 - val_accuracy: 0.9704\n",
            "Epoch 30/50\n",
            "5/5 [==============================] - 0s 19ms/step - loss: 0.0102 - accuracy: 1.0000 - val_loss: 0.1024 - val_accuracy: 0.9704\n",
            "Epoch 31/50\n",
            "5/5 [==============================] - 0s 19ms/step - loss: 0.0087 - accuracy: 1.0000 - val_loss: 0.1014 - val_accuracy: 0.9704\n",
            "Epoch 32/50\n",
            "5/5 [==============================] - 0s 16ms/step - loss: 0.0074 - accuracy: 1.0000 - val_loss: 0.1004 - val_accuracy: 0.9704\n",
            "Epoch 33/50\n",
            "5/5 [==============================] - 0s 17ms/step - loss: 0.0064 - accuracy: 1.0000 - val_loss: 0.1000 - val_accuracy: 0.9704\n",
            "Epoch 34/50\n",
            "5/5 [==============================] - 0s 16ms/step - loss: 0.0055 - accuracy: 1.0000 - val_loss: 0.1001 - val_accuracy: 0.9704\n",
            "Epoch 35/50\n",
            "5/5 [==============================] - 0s 21ms/step - loss: 0.0047 - accuracy: 1.0000 - val_loss: 0.0994 - val_accuracy: 0.9704\n",
            "Epoch 36/50\n",
            "5/5 [==============================] - 0s 19ms/step - loss: 0.0041 - accuracy: 1.0000 - val_loss: 0.0988 - val_accuracy: 0.9704\n",
            "Epoch 37/50\n",
            "5/5 [==============================] - 0s 18ms/step - loss: 0.0036 - accuracy: 1.0000 - val_loss: 0.0994 - val_accuracy: 0.9704\n",
            "Epoch 38/50\n",
            "5/5 [==============================] - 0s 19ms/step - loss: 0.0032 - accuracy: 1.0000 - val_loss: 0.0989 - val_accuracy: 0.9704\n",
            "Epoch 39/50\n",
            "5/5 [==============================] - 0s 19ms/step - loss: 0.0027 - accuracy: 1.0000 - val_loss: 0.0990 - val_accuracy: 0.9704\n",
            "Epoch 40/50\n",
            "5/5 [==============================] - 0s 16ms/step - loss: 0.0024 - accuracy: 1.0000 - val_loss: 0.0991 - val_accuracy: 0.9704\n",
            "Epoch 41/50\n",
            "5/5 [==============================] - 0s 16ms/step - loss: 0.0021 - accuracy: 1.0000 - val_loss: 0.0996 - val_accuracy: 0.9704\n",
            "Epoch 42/50\n",
            "5/5 [==============================] - 0s 20ms/step - loss: 0.0019 - accuracy: 1.0000 - val_loss: 0.0995 - val_accuracy: 0.9704\n",
            "Epoch 43/50\n",
            "5/5 [==============================] - 0s 20ms/step - loss: 0.0017 - accuracy: 1.0000 - val_loss: 0.0994 - val_accuracy: 0.9704\n",
            "Epoch 44/50\n",
            "5/5 [==============================] - 0s 25ms/step - loss: 0.0015 - accuracy: 1.0000 - val_loss: 0.1024 - val_accuracy: 0.9741\n",
            "Epoch 45/50\n",
            "5/5 [==============================] - 0s 29ms/step - loss: 0.0014 - accuracy: 1.0000 - val_loss: 0.1015 - val_accuracy: 0.9704\n",
            "Epoch 46/50\n",
            "5/5 [==============================] - 0s 25ms/step - loss: 0.0013 - accuracy: 1.0000 - val_loss: 0.1007 - val_accuracy: 0.9704\n",
            "Epoch 47/50\n",
            "5/5 [==============================] - 0s 28ms/step - loss: 0.0011 - accuracy: 1.0000 - val_loss: 0.1006 - val_accuracy: 0.9704\n",
            "Epoch 48/50\n",
            "5/5 [==============================] - 0s 25ms/step - loss: 0.0010 - accuracy: 1.0000 - val_loss: 0.1034 - val_accuracy: 0.9741\n",
            "Epoch 49/50\n",
            "5/5 [==============================] - 0s 24ms/step - loss: 9.5230e-04 - accuracy: 1.0000 - val_loss: 0.1016 - val_accuracy: 0.9704\n",
            "Epoch 50/50\n",
            "5/5 [==============================] - 0s 22ms/step - loss: 8.7542e-04 - accuracy: 1.0000 - val_loss: 0.1015 - val_accuracy: 0.9704\n",
            "\n",
            "Accuracy during Training :\n",
            "------------------------------------\n"
          ]
        },
        {
          "output_type": "display_data",
          "data": {
            "text/plain": [
              "<Figure size 800x500 with 1 Axes>"
            ],
            "image/png": "[encoded data removed]"
          },
          "metadata": {}
        },
        {
          "output_type": "stream",
          "name": "stdout",
          "text": [
            "\n",
            "Evaluation against Test Dataset :\n",
            "------------------------------------\n",
            "5/5 [==============================] - 0s 4ms/step - loss: 0.2139 - accuracy: 0.9467\n"
          ]
        },
        {
          "output_type": "execute_result",
          "data": {
            "text/plain": [
              "[0.21392808854579926, 0.9466666579246521]"
            ]
          },
          "metadata": {},
          "execution_count": 29
        }
      ]
    },
    {
      "cell_type": "markdown",
      "source": [
        "### 5.4. Predicting for Text"
      ],
      "metadata": {
        "id": "V-DCtlopL49j"
      }
    },
    {
      "cell_type": "code",
      "source": [
        "#Predict for multiple samples using batch processing\n",
        "\n",
        "#Convert input into IF-IDF vector using the same vectorizer model\n",
        "predict_tfidf=vectorizer.transform([\"FREE entry to a fun contest\",\n",
        "                                    \"Yup I will come over\"]).toarray()\n",
        "\n",
        "print(predict_tfidf.shape)\n",
        "\n",
        "#Predict using model\n",
        "prediction=np.argmax( model.predict(predict_tfidf), axis=1 )\n",
        "print(\"Prediction Output:\" , prediction)\n",
        "\n",
        "#Print prediction classes\n",
        "print(\"Prediction Classes are \", label_encoder.inverse_transform(prediction))"
      ],
      "metadata": {
        "colab": {
          "base_uri": "https://localhost:8080/"
        },
        "id": "mlra5P9MLHnq",
        "outputId": "92f221d3-c9c0-4eb0-f157-8dcdb7f8514d"
      },
      "execution_count": 30,
      "outputs": [
        {
          "output_type": "stream",
          "name": "stdout",
          "text": [
            "(2, 4566)\n",
            "1/1 [==============================] - 0s 202ms/step\n",
            "Prediction Output: [1 0]\n",
            "Prediction Classes are  ['spam' 'ham']\n"
          ]
        }
      ]
    }
  ]
}