{
  "nbformat": 4,
  "nbformat_minor": 0,
  "metadata": {
    "colab": {
      "name": "Flower_dataset_transfer_learning.ipynb",
      "provenance": [],
      "collapsed_sections": [],
      "authorship_tag": "ABX9TyO352EFILiz3lZbO4URkHFX",
      "include_colab_link": true
    },
    "kernelspec": {
      "name": "python3",
      "display_name": "Python 3"
    },
    "language_info": {
      "name": "python"
    },
    "accelerator": "GPU"
  },
  "cells": [
    {
      "cell_type": "markdown",
      "metadata": {
        "id": "view-in-github",
        "colab_type": "text"
      },
      "source": [
        "<a href=\"https://colab.research.google.com/github/mspatke/Deep-Learning-with-Tensorflow/blob/main/Flower_dataset_transfer_learning.ipynb\" target=\"_parent\"><img src=\"https://colab.research.google.com/assets/colab-badge.svg\" alt=\"Open In Colab\"/></a>"
      ]
    },
    {
      "cell_type": "code",
      "execution_count": 7,
      "metadata": {
        "id": "SAp-bnaAIbAg"
      },
      "outputs": [],
      "source": [
        "import tensorflow as tf\n",
        "import numpy as np\n",
        "import matplotlib.pyplot as plt\n",
        "\n",
        "import tensorflow_hub as hub\n",
        "import tensorflow_datasets as tfds\n",
        "\n",
        "from tensorflow.keras import layers\n",
        "\n",
        "import logging\n",
        "logger = tf.get_logger()\n",
        "logger.setLevel(logging.ERROR)"
      ]
    },
    {
      "cell_type": "code",
      "source": [
        "(training_set, validation_set), dataset_info = tfds.load('tf_flowers', split= ['train[:70%]', 'train[70%:]'], with_info = True, as_supervised=True)"
      ],
      "metadata": {
        "id": "qftjbzc1IsUK"
      },
      "execution_count": 8,
      "outputs": []
    },
    {
      "cell_type": "code",
      "source": [
        "num_classes = dataset_info.features['label'].num_classes\n",
        "\n",
        "num_training_examples = 0\n",
        "num_validation_examples = 0\n",
        "\n",
        "for example in training_set:\n",
        "  num_training_examples +=1\n",
        "\n",
        "for example in validation_set:\n",
        "  num_validation_examples +=1\n",
        "\n",
        "\n",
        "print('Total No of classes: {}'.format(num_classes))\n",
        "print('Total no of training images: {}'.format(num_training_examples))\n",
        "print('Total no of training images: {}'.format(num_validation_examples))\n"
      ],
      "metadata": {
        "colab": {
          "base_uri": "https://localhost:8080/"
        },
        "id": "pYS5QU15JMQn",
        "outputId": "14efd31d-26c8-4d56-9c63-8bdc05b6f1d6"
      },
      "execution_count": 9,
      "outputs": [
        {
          "output_type": "stream",
          "name": "stdout",
          "text": [
            "Total No of classes: 5\n",
            "Total no of training images: 2569\n",
            "Total no of training images: 1101\n"
          ]
        }
      ]
    },
    {
      "cell_type": "code",
      "source": [
        "for i, example in enumerate(training_set.take(5)):\n",
        "  print('Image {} shape: {} label {}'.format( i+1, example[0].shape, example[1]))\n",
        "  "
      ],
      "metadata": {
        "colab": {
          "base_uri": "https://localhost:8080/"
        },
        "id": "PR2nXbPLLwjv",
        "outputId": "655d9299-edb3-4fd9-beba-72cfb764d7a0"
      },
      "execution_count": 10,
      "outputs": [
        {
          "output_type": "stream",
          "name": "stdout",
          "text": [
            "Image 1 shape: (333, 500, 3) label 2\n",
            "Image 2 shape: (212, 320, 3) label 3\n",
            "Image 3 shape: (240, 320, 3) label 3\n",
            "Image 4 shape: (240, 320, 3) label 4\n",
            "Image 5 shape: (317, 500, 3) label 3\n"
          ]
        }
      ]
    },
    {
      "cell_type": "code",
      "source": [
        "IMAGE_RES = 224\n",
        "\n",
        "def format_image(image, label):\n",
        "  image = tf.image.resize(image, (IMAGE_RES, IMAGE_RES))/255.0\n",
        "  return image, label\n",
        "\n",
        "BATCH_SIZE = 32\n",
        "\n",
        "train_batches = training_set.shuffle(num_training_examples//4).map(format_image).batch(BATCH_SIZE).prefetch(1)\n",
        "\n",
        "validation_batches = validation_set.map(format_image).batch(BATCH_SIZE).prefetch(1)"
      ],
      "metadata": {
        "id": "gXfU7IMbMa_S"
      },
      "execution_count": 11,
      "outputs": []
    },
    {
      "cell_type": "code",
      "source": [
        "URL = \"https://tfhub.dev/google/tf2-preview/mobilenet_v2/feature_vector/4\"\n",
        "\n",
        "feature_extractor = hub.KerasLayer(URL,input_shape=(IMAGE_RES, IMAGE_RES, 3))"
      ],
      "metadata": {
        "id": "Fb-B4F18N-UN"
      },
      "execution_count": 12,
      "outputs": []
    },
    {
      "cell_type": "code",
      "source": [
        "feature_extractor.trainable = False"
      ],
      "metadata": {
        "id": "0eN8jIpaZm_2"
      },
      "execution_count": 14,
      "outputs": []
    },
    {
      "cell_type": "code",
      "source": [
        "model = tf. keras.Sequential([ feature_extractor, \n",
        "                              layers.Dense(num_classes)])"
      ],
      "metadata": {
        "id": "iWPi4ZxEZyhd"
      },
      "execution_count": 15,
      "outputs": []
    },
    {
      "cell_type": "code",
      "source": [
        "model.summary()"
      ],
      "metadata": {
        "colab": {
          "base_uri": "https://localhost:8080/"
        },
        "id": "X-LW_gA-aCoU",
        "outputId": "bf22b51e-5584-493b-bd98-f3de28702400"
      },
      "execution_count": 16,
      "outputs": [
        {
          "output_type": "stream",
          "name": "stdout",
          "text": [
            "Model: \"sequential\"\n",
            "_________________________________________________________________\n",
            " Layer (type)                Output Shape              Param #   \n",
            "=================================================================\n",
            " keras_layer (KerasLayer)    (None, 1280)              2257984   \n",
            "                                                                 \n",
            " dense (Dense)               (None, 5)                 6405      \n",
            "                                                                 \n",
            "=================================================================\n",
            "Total params: 2,264,389\n",
            "Trainable params: 6,405\n",
            "Non-trainable params: 2,257,984\n",
            "_________________________________________________________________\n"
          ]
        }
      ]
    },
    {
      "cell_type": "code",
      "source": [
        "model.compile(\n",
        "    optimizer ='adam',\n",
        "    loss = tf.keras.losses.SparseCategoricalCrossentropy(from_logits=True),\n",
        "    metrics = ['accuracy']\n",
        "    )\n",
        "\n",
        "\n",
        "EPOCHS = 6\n",
        "\n",
        "history = model.fit(train_batches,\n",
        "                    epochs = EPOCHS ,\n",
        "                    validation_data = validation_batches)"
      ],
      "metadata": {
        "colab": {
          "base_uri": "https://localhost:8080/"
        },
        "id": "4nPagvrRaEqf",
        "outputId": "f05fe2ad-cbcd-4fca-e35d-db61b3fdb10d"
      },
      "execution_count": 20,
      "outputs": [
        {
          "output_type": "stream",
          "name": "stdout",
          "text": [
            "Epoch 1/6\n",
            "81/81 [==============================] - 18s 63ms/step - loss: 0.7553 - accuracy: 0.7186 - val_loss: 0.4452 - val_accuracy: 0.8583\n",
            "Epoch 2/6\n",
            "81/81 [==============================] - 4s 50ms/step - loss: 0.3792 - accuracy: 0.8797 - val_loss: 0.3816 - val_accuracy: 0.8738\n",
            "Epoch 3/6\n",
            "81/81 [==============================] - 4s 50ms/step - loss: 0.3034 - accuracy: 0.9070 - val_loss: 0.3231 - val_accuracy: 0.8983\n",
            "Epoch 4/6\n",
            "81/81 [==============================] - 4s 50ms/step - loss: 0.2512 - accuracy: 0.9237 - val_loss: 0.3021 - val_accuracy: 0.8992\n",
            "Epoch 5/6\n",
            "81/81 [==============================] - 4s 50ms/step - loss: 0.2130 - accuracy: 0.9342 - val_loss: 0.2981 - val_accuracy: 0.8983\n",
            "Epoch 6/6\n",
            "81/81 [==============================] - 4s 51ms/step - loss: 0.1880 - accuracy: 0.9475 - val_loss: 0.2856 - val_accuracy: 0.9037\n"
          ]
        }
      ]
    },
    {
      "cell_type": "code",
      "source": [
        "#Plot training and validation Graph\n",
        "\n",
        "acc = history.history['accuracy']\n",
        "val_acc = history.history['val_accuracy']\n",
        "\n",
        "loss = history.history['loss']\n",
        "val_loss = history.history['val_loss']\n",
        "\n",
        "epochs_range = range(EPOCHS)\n",
        "\n",
        "plt.figure(figsize=(25,8))\n",
        "plt.subplot(1,2,1)\n",
        "plt.plot(epochs_range, acc, label='Training Accuracy')\n",
        "plt.plot(epochs_range, val_acc, label ='Validation Accuracy')\n",
        "plt.legend(loc=' Lower Right')\n",
        "plt.title('Training and Validation Accuracy')\n",
        "\n",
        "plt.subplot(1,2,2)\n",
        "plt.plot(epochs_range, acc, label='Training Loss')\n",
        "plt.plot(epochs_range, val_acc, label ='Validation Loss')\n",
        "plt.legend(loc=' Upper Right')\n",
        "plt.title('Training and Validation Loss')\n",
        "plt.show()\n"
      ],
      "metadata": {
        "colab": {
          "base_uri": "https://localhost:8080/",
          "height": 991
        },
        "id": "Ol9Wfej9a9Et",
        "outputId": "66fb1fef-0d14-42e2-f703-e495255ccb6f"
      },
      "execution_count": 24,
      "outputs": [
        {
          "output_type": "stream",
          "name": "stderr",
          "text": [
            "/usr/local/lib/python3.7/dist-packages/ipykernel_launcher.py:15: MatplotlibDeprecationWarning: Unrecognized location ' Lower Right'. Falling back on 'best'; valid locations are\n",
            "\tbest\n",
            "\tupper right\n",
            "\tupper left\n",
            "\tlower left\n",
            "\tlower right\n",
            "\tright\n",
            "\tcenter left\n",
            "\tcenter right\n",
            "\tlower center\n",
            "\tupper center\n",
            "\tcenter\n",
            "This will raise an exception in 3.3.\n",
            "  from ipykernel import kernelapp as app\n",
            "/usr/local/lib/python3.7/dist-packages/ipykernel_launcher.py:21: MatplotlibDeprecationWarning: Unrecognized location ' Upper Right'. Falling back on 'best'; valid locations are\n",
            "\tbest\n",
            "\tupper right\n",
            "\tupper left\n",
            "\tlower left\n",
            "\tlower right\n",
            "\tright\n",
            "\tcenter left\n",
            "\tcenter right\n",
            "\tlower center\n",
            "\tupper center\n",
            "\tcenter\n",
            "This will raise an exception in 3.3.\n"
          ]
        },
        {
          "output_type": "display_data",
          "data": {
            "text/plain": [
              "<Figure size 1800x576 with 2 Axes>"
            ],
            "image/png": "[encoded data removed]"
          },
          "metadata": {
            "needs_background": "light"
          }
        }
      ]
    },
    {
      "cell_type": "code",
      "source": [
        "class_names = np.array(dataset_info.features['label'].names)\n",
        "\n",
        "print(class_names)"
      ],
      "metadata": {
        "colab": {
          "base_uri": "https://localhost:8080/"
        },
        "id": "7x3DOBM6cgqk",
        "outputId": "7405b72c-a532-4ca3-863a-ac1af405db88"
      },
      "execution_count": 25,
      "outputs": [
        {
          "output_type": "stream",
          "name": "stdout",
          "text": [
            "['dandelion' 'daisy' 'tulips' 'sunflowers' 'roses']\n"
          ]
        }
      ]
    },
    {
      "cell_type": "code",
      "source": [
        "image_batch, label_batch = next(iter(train_batches))\n",
        "\n",
        "image_batch = image_batch.numpy()\n",
        "label_batch = label_batch.numpy()\n",
        "\n",
        "predicted_batch = model.predict(image_batch)\n",
        "predicted_batch = tf.squeeze(predicted_batch).numpy()\n",
        "\n",
        "predicted_ids = np.argmax(predicted_batch, axis =-1)\n",
        "predicted_class_name = class_names[predicted_ids]\n",
        "\n",
        "print(predicted_class_name)"
      ],
      "metadata": {
        "colab": {
          "base_uri": "https://localhost:8080/"
        },
        "id": "grdzvJ7vc555",
        "outputId": "a0fe23cc-9adf-4c7e-a78e-415a8b6e55b6"
      },
      "execution_count": 26,
      "outputs": [
        {
          "output_type": "stream",
          "name": "stdout",
          "text": [
            "['daisy' 'sunflowers' 'roses' 'roses' 'dandelion' 'dandelion' 'roses'\n",
            " 'roses' 'roses' 'roses' 'daisy' 'daisy' 'tulips' 'sunflowers'\n",
            " 'sunflowers' 'daisy' 'sunflowers' 'tulips' 'daisy' 'roses' 'sunflowers'\n",
            " 'roses' 'roses' 'tulips' 'roses' 'daisy' 'roses' 'roses' 'dandelion'\n",
            " 'roses' 'sunflowers' 'sunflowers']\n"
          ]
        }
      ]
    },
    {
      "cell_type": "code",
      "source": [
        "#Print True Labels and Predicted labels\n",
        "\n",
        "print(\"Labels : \", label_batch)\n",
        "print(\"Predicted labels : \", predicted_ids)\n"
      ],
      "metadata": {
        "colab": {
          "base_uri": "https://localhost:8080/"
        },
        "id": "SMholSbedpXS",
        "outputId": "d71c3e71-a997-4fca-c7c1-8f23de9d2dde"
      },
      "execution_count": 27,
      "outputs": [
        {
          "output_type": "stream",
          "name": "stdout",
          "text": [
            "Labels :  [1 3 4 4 0 0 4 4 4 4 1 1 2 3 3 1 3 2 1 4 3 4 4 2 4 1 4 4 0 4 3 3]\n",
            "Predicted labels :  [1 3 4 4 0 0 4 4 4 4 1 1 2 3 3 1 3 2 1 4 3 4 4 2 4 1 4 4 0 4 3 3]\n"
          ]
        }
      ]
    },
    {
      "cell_type": "code",
      "source": [
        "from tensorflow.python.framework import tensor_util\n",
        "#Transfer Learning with inception model\n",
        "\n",
        "IMAGE_RES = 299\n",
        "\n",
        "(training_set, validation_set), dataset_info = tfds.load(\n",
        "    'tf_flowers',\n",
        "    with_info= True,\n",
        "    as_supervised= True,\n",
        "    split= ['train[:70%]', 'train[70%:]']\n",
        ")"
      ],
      "metadata": {
        "id": "yyDxtCyJeN52"
      },
      "execution_count": 34,
      "outputs": []
    },
    {
      "cell_type": "code",
      "source": [
        "train_batches = training_set.shuffle(num_training_examples//4).map(format_image).batch(BATCH_SIZE).prefetch(1)\n",
        "\n",
        "validation_batches = validation_set.map(format_image).batch(BATCH_SIZE).prefetch(1)"
      ],
      "metadata": {
        "id": "_yLOJLkhe00d"
      },
      "execution_count": 35,
      "outputs": []
    },
    {
      "cell_type": "code",
      "source": [
        "URL_Inception = \"https://tfhub.dev/google/tf2-preview/inception_v3/feature_vector/4\"\n",
        "\n",
        "feature_extracter = hub.KerasLayer(URL_Inception,\n",
        "                                   input_shape=(299, 299 , 3),\n",
        "                                   trainable= False)\n",
        "\n",
        "model_inception = tf.keras.Sequential([feature_extracter,\n",
        "                                       tf.keras.layers.Dense(num_classes) ])\n",
        "\n",
        "\n",
        "model_inception.summary()"
      ],
      "metadata": {
        "colab": {
          "base_uri": "https://localhost:8080/"
        },
        "id": "FNctt4Dyf-fq",
        "outputId": "5ca254e1-518c-4f26-bfbb-28b2f2daf089"
      },
      "execution_count": 37,
      "outputs": [
        {
          "output_type": "stream",
          "name": "stdout",
          "text": [
            "Model: \"sequential_4\"\n",
            "_________________________________________________________________\n",
            " Layer (type)                Output Shape              Param #   \n",
            "=================================================================\n",
            " keras_layer_4 (KerasLayer)  (None, 2048)              21802784  \n",
            "                                                                 \n",
            " dense_4 (Dense)             (None, 5)                 10245     \n",
            "                                                                 \n",
            "=================================================================\n",
            "Total params: 21,813,029\n",
            "Trainable params: 10,245\n",
            "Non-trainable params: 21,802,784\n",
            "_________________________________________________________________\n"
          ]
        }
      ]
    },
    {
      "cell_type": "code",
      "source": [
        "model_inception.compile(\n",
        "    optimizer = 'adam',\n",
        "    loss = tf.keras.losses.SparseCategoricalCrossentropy(from_logits=True),\n",
        "    metrics= ['accuracy']\n",
        ")\n",
        "\n",
        "EPOCHS= 6\n",
        "\n",
        "history = model_inception.fit(train_batches,\n",
        "                              epochs = EPOCHS,\n",
        "                              validation_data = validation_batches)"
      ],
      "metadata": {
        "colab": {
          "base_uri": "https://localhost:8080/"
        },
        "id": "BxPrVImoguVK",
        "outputId": "3b80c4e7-2c69-414f-8e0c-1ac6fca07714"
      },
      "execution_count": 39,
      "outputs": [
        {
          "output_type": "stream",
          "name": "stdout",
          "text": [
            "Epoch 1/6\n",
            "81/81 [==============================] - 23s 199ms/step - loss: 0.7887 - accuracy: 0.7069 - val_loss: 0.4775 - val_accuracy: 0.8583\n",
            "Epoch 2/6\n",
            "81/81 [==============================] - 14s 176ms/step - loss: 0.4022 - accuracy: 0.8762 - val_loss: 0.3902 - val_accuracy: 0.8765\n",
            "Epoch 3/6\n",
            "81/81 [==============================] - 14s 177ms/step - loss: 0.3237 - accuracy: 0.8992 - val_loss: 0.3359 - val_accuracy: 0.8837\n",
            "Epoch 4/6\n",
            "81/81 [==============================] - 13s 163ms/step - loss: 0.2702 - accuracy: 0.9167 - val_loss: 0.3103 - val_accuracy: 0.8919\n",
            "Epoch 5/6\n",
            "81/81 [==============================] - 14s 179ms/step - loss: 0.2371 - accuracy: 0.9299 - val_loss: 0.2989 - val_accuracy: 0.8946\n",
            "Epoch 6/6\n",
            "81/81 [==============================] - 13s 164ms/step - loss: 0.2079 - accuracy: 0.9424 - val_loss: 0.2864 - val_accuracy: 0.8974\n"
          ]
        }
      ]
    },
    {
      "cell_type": "code",
      "source": [
        "#Plot training and validation Graph\n",
        "\n",
        "acc = history.history['accuracy']\n",
        "val_acc = history.history['val_accuracy']\n",
        "\n",
        "loss = history.history['loss']\n",
        "val_loss = history.history['val_loss']\n",
        "\n",
        "epochs_range = range(EPOCHS)\n",
        "\n",
        "plt.figure(figsize=(25,8))\n",
        "plt.subplot(1,2,1)\n",
        "plt.plot(epochs_range, acc, label='Training Accuracy')\n",
        "plt.plot(epochs_range, val_acc, label ='Validation Accuracy')\n",
        "plt.legend(loc=' Lower Right')\n",
        "plt.title('Training and Validation Accuracy')\n",
        "\n",
        "plt.subplot(1,2,2)\n",
        "plt.plot(epochs_range, acc, label='Training Loss')\n",
        "plt.plot(epochs_range, val_acc, label ='Validation Loss')\n",
        "plt.legend(loc=' Upper Right')\n",
        "plt.title('Training and Validation Loss')\n",
        "plt.show()\n"
      ],
      "metadata": {
        "colab": {
          "base_uri": "https://localhost:8080/",
          "height": 991
        },
        "id": "rPiKVAPphu3I",
        "outputId": "5af7316a-71b5-42b0-e5ec-e2259d30b2f3"
      },
      "execution_count": 40,
      "outputs": [
        {
          "output_type": "stream",
          "name": "stderr",
          "text": [
            "/usr/local/lib/python3.7/dist-packages/ipykernel_launcher.py:15: MatplotlibDeprecationWarning: Unrecognized location ' Lower Right'. Falling back on 'best'; valid locations are\n",
            "\tbest\n",
            "\tupper right\n",
            "\tupper left\n",
            "\tlower left\n",
            "\tlower right\n",
            "\tright\n",
            "\tcenter left\n",
            "\tcenter right\n",
            "\tlower center\n",
            "\tupper center\n",
            "\tcenter\n",
            "This will raise an exception in 3.3.\n",
            "  from ipykernel import kernelapp as app\n",
            "/usr/local/lib/python3.7/dist-packages/ipykernel_launcher.py:21: MatplotlibDeprecationWarning: Unrecognized location ' Upper Right'. Falling back on 'best'; valid locations are\n",
            "\tbest\n",
            "\tupper right\n",
            "\tupper left\n",
            "\tlower left\n",
            "\tlower right\n",
            "\tright\n",
            "\tcenter left\n",
            "\tcenter right\n",
            "\tlower center\n",
            "\tupper center\n",
            "\tcenter\n",
            "This will raise an exception in 3.3.\n"
          ]
        },
        {
          "output_type": "display_data",
          "data": {
            "text/plain": [
              "<Figure size 1800x576 with 2 Axes>"
            ],
            "image/png": "[encoded data removed]"
          },
          "metadata": {
            "needs_background": "light"
          }
        }
      ]
    },
    {
      "cell_type": "code",
      "source": [
        ""
      ],
      "metadata": {
        "id": "G_6gQOPliqwD"
      },
      "execution_count": null,
      "outputs": []
    }
  ]
}