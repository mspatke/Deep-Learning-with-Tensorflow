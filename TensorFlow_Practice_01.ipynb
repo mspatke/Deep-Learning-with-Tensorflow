{
  "nbformat": 4,
  "nbformat_minor": 0,
  "metadata": {
    "colab": {
      "name": "TensorFlow_Practice_01.ipynb",
      "provenance": []
    },
    "kernelspec": {
      "name": "python3",
      "display_name": "Python 3"
    },
    "language_info": {
      "name": "python"
    },
    "accelerator": "GPU"
  },
  "cells": [
    {
      "cell_type": "code",
      "execution_count": 1,
      "metadata": {
        "id": "3KkBtaXM004c"
      },
      "outputs": [],
      "source": [
        "import tensorflow as tf\n",
        "import numpy as np\n",
        "import logging"
      ]
    },
    {
      "cell_type": "code",
      "source": [
        "logger = tf.get_logger()\n",
        "logger.setLevel(logging.ERROR)"
      ],
      "metadata": {
        "id": "Qr2JVpWe1DUG"
      },
      "execution_count": 2,
      "outputs": []
    },
    {
      "cell_type": "markdown",
      "source": [
        "Set Up Training Data"
      ],
      "metadata": {
        "id": "0yxtitj51Tji"
      }
    },
    {
      "cell_type": "code",
      "source": [
        "celsius_q = np.array([-40, -10, 0, 8, 15, 22, 38], dtype=float)\n",
        "Farenheit_a = np.array([-40, 14, 32, 46, 59, 72, 100], dtype=float)\n",
        "\n",
        "for i, c in enumerate(celsius_q):\n",
        "  print(\"{} degree Celsius ={} degrees Farenheit\". format(c, Farenheit_a[i]))"
      ],
      "metadata": {
        "colab": {
          "base_uri": "https://localhost:8080/"
        },
        "id": "nPLo9PF31R91",
        "outputId": "172b9aa6-7a16-4d4d-f67c-e41d42a73a2e"
      },
      "execution_count": 3,
      "outputs": [
        {
          "output_type": "stream",
          "name": "stdout",
          "text": [
            "-40.0 degree Celsius =-40.0 degrees Farenheit\n",
            "-10.0 degree Celsius =14.0 degrees Farenheit\n",
            "0.0 degree Celsius =32.0 degrees Farenheit\n",
            "8.0 degree Celsius =46.0 degrees Farenheit\n",
            "15.0 degree Celsius =59.0 degrees Farenheit\n",
            "22.0 degree Celsius =72.0 degrees Farenheit\n",
            "38.0 degree Celsius =100.0 degrees Farenheit\n"
          ]
        }
      ]
    },
    {
      "cell_type": "markdown",
      "source": [
        "We'll call the layer l0 and create it by instantiating tf.keras.layers.Dense with the following configuration:\n",
        "\n",
        "input_shape=[1] — This specifies that the input to this layer is a single value. That is, the shape is a one-dimensional array with one member. Since this is the first (and only) layer, that input shape is the input shape of the entire model. The single value is a floating point number, representing degrees Celsius.\n",
        "\n",
        "units=1 — This specifies the number of neurons in the layer. The number of neurons defines how many internal variables the layer has to try to learn how to solve the problem (more later). Since this is the final layer, it is also the size of the model's output — a single float value representing degrees Fahrenheit. (In a multi-layered network, the size and shape of the layer would need to match the input_shape of the next layer.)"
      ],
      "metadata": {
        "id": "FFq8tgF12gHs"
      }
    },
    {
      "cell_type": "code",
      "source": [
        "L0 = tf.keras.layers.Dense(units =1 , input_shape= [1])"
      ],
      "metadata": {
        "id": "D5ebWPgO2EPs"
      },
      "execution_count": 6,
      "outputs": []
    },
    {
      "cell_type": "markdown",
      "source": [
        "Assembel layers into model"
      ],
      "metadata": {
        "id": "Sef3Z0yG2ZKt"
      }
    },
    {
      "cell_type": "code",
      "source": [
        "model = tf.keras.Sequential([L0])"
      ],
      "metadata": {
        "id": "lCTUof8d2SF4"
      },
      "execution_count": 9,
      "outputs": []
    },
    {
      "cell_type": "code",
      "source": [
        "model.compile(loss= 'mean_squared_error', optimizer= tf.keras.optimizers.Adam(0.1))"
      ],
      "metadata": {
        "id": "E75NE2-k2qOP"
      },
      "execution_count": 10,
      "outputs": []
    },
    {
      "cell_type": "markdown",
      "source": [
        "Train The model"
      ],
      "metadata": {
        "id": "tb6E6Dwx3G4u"
      }
    },
    {
      "cell_type": "code",
      "source": [
        "history = model.fit(celsius_q, Farenheit_a, epochs=500, verbose=False)\n",
        "print(\"Finished training the model\")"
      ],
      "metadata": {
        "colab": {
          "base_uri": "https://localhost:8080/"
        },
        "id": "JX9_BhiL3Ean",
        "outputId": "70ee707f-b7f6-4590-8229-ca87a464968c"
      },
      "execution_count": 14,
      "outputs": [
        {
          "output_type": "stream",
          "name": "stdout",
          "text": [
            "Finished training the model\n"
          ]
        }
      ]
    },
    {
      "cell_type": "code",
      "source": [
        "import matplotlib.pyplot as plt\n",
        "plt.xlabel(\"Epoch Number\")\n",
        "plt.ylabel(\"Loss Magnitude\")\n",
        "plt.plot(history.history['loss'])"
      ],
      "metadata": {
        "colab": {
          "base_uri": "https://localhost:8080/",
          "height": 297
        },
        "id": "zojmbXaG3Zm7",
        "outputId": "5e97a6a6-5faf-4555-893c-2fbdb1dae77d"
      },
      "execution_count": 19,
      "outputs": [
        {
          "output_type": "execute_result",
          "data": {
            "text/plain": [
              "[<matplotlib.lines.Line2D at 0x7fcd78aef650>]"
            ]
          },
          "metadata": {},
          "execution_count": 19
        },
        {
          "output_type": "display_data",
          "data": {
            "text/plain": [
              "<Figure size 432x288 with 1 Axes>"
            ],
            "image/png": "[encoded data removed]"
          },
          "metadata": {
            "needs_background": "light"
          }
        }
      ]
    },
    {
      "cell_type": "code",
      "source": [
        "print(model.predict([100.0]))"
      ],
      "metadata": {
        "colab": {
          "base_uri": "https://localhost:8080/"
        },
        "id": "UBJ3qiul4fWK",
        "outputId": "95b9a936-640e-41ba-8709-a9916c6fdfa0"
      },
      "execution_count": 22,
      "outputs": [
        {
          "output_type": "stream",
          "name": "stdout",
          "text": [
            "[[211.74359]]\n"
          ]
        }
      ]
    },
    {
      "cell_type": "code",
      "source": [
        "L0.get_weights()"
      ],
      "metadata": {
        "colab": {
          "base_uri": "https://localhost:8080/"
        },
        "id": "v2ofgteL4p_D",
        "outputId": "b692246e-8a07-4760-e80a-e8a8323a6caf"
      },
      "execution_count": 23,
      "outputs": [
        {
          "output_type": "execute_result",
          "data": {
            "text/plain": [
              "[array([[1.7981676]], dtype=float32), array([31.926834], dtype=float32)]"
            ]
          },
          "metadata": {},
          "execution_count": 23
        }
      ]
    },
    {
      "cell_type": "code",
      "source": [
        "l0 = tf.keras.layers.Dense(units=4, input_shape=[1])\n",
        "l1 = tf.keras.layers.Dense(units=4)\n",
        "l2 = tf.keras.layers.Dense(units=1)\n",
        "\n",
        "model = tf.keras.Sequential([l0, l1, l2])\n",
        "\n",
        "model.compile(loss='mean_squared_error', optimizer=tf.keras.optimizers.Adam(0.1))\n",
        "\n",
        "model.fit(celsius_q, Farenheit_a, epochs=500, verbose=False)\n",
        "\n",
        "print(\"Finished training the model\")"
      ],
      "metadata": {
        "colab": {
          "base_uri": "https://localhost:8080/"
        },
        "id": "Fx646B6M5Ck9",
        "outputId": "0d07a1e7-c6ae-4224-abca-14778c2ec641"
      },
      "execution_count": 26,
      "outputs": [
        {
          "output_type": "stream",
          "name": "stdout",
          "text": [
            "Finished training the model\n"
          ]
        }
      ]
    },
    {
      "cell_type": "code",
      "source": [
        "\n",
        "print(model.predict([100.0]))\n",
        "\n",
        "print(\"Model predicts that 100 degrees Celsius is: {} degrees Fahrenheit\".format(model.predict([100.0])))\n",
        "\n",
        "print(\"These are the l0 variables: {}\".format(l0.get_weights()))\n",
        "print(\"These are the l1 variables: {}\".format(l1.get_weights()))\n",
        "print(\"These are the l2 variables: {}\".format(l2.get_weights()))"
      ],
      "metadata": {
        "colab": {
          "base_uri": "https://localhost:8080/"
        },
        "id": "eiakNLkQ5Kny",
        "outputId": "d1dbe254-a844-4692-cf8e-227ce1d18675"
      },
      "execution_count": 27,
      "outputs": [
        {
          "output_type": "stream",
          "name": "stdout",
          "text": [
            "[[211.74744]]\n",
            "Model predicts that 100 degrees Celsius is: [[211.74744]] degrees Fahrenheit\n",
            "These are the l0 variables: [array([[ 0.06201901,  0.0327783 , -0.2107765 ,  0.8284493 ]],\n",
            "      dtype=float32), array([-3.2290957 , -2.069513  ,  0.89605254,  3.5457227 ], dtype=float32)]\n",
            "These are the l1 variables: [array([[-0.3425239 , -0.5529485 ,  0.05874791,  0.48005542],\n",
            "       [-0.50596327, -0.3036353 ,  0.22398815, -0.36893657],\n",
            "       [ 0.0849465 ,  0.7980148 ,  0.8963464 ,  0.38651842],\n",
            "       [ 0.89210266,  0.96746063, -0.07811767,  0.06047331]],\n",
            "      dtype=float32), array([ 3.33333  ,  3.3309655,  2.1298227, -2.9559104], dtype=float32)]\n",
            "These are the l2 variables: [array([[ 1.4001826 ],\n",
            "       [ 1.4439886 ],\n",
            "       [ 0.07460624],\n",
            "       [-0.63512146]], dtype=float32), array([3.283226], dtype=float32)]\n"
          ]
        }
      ]
    },
    {
      "cell_type": "code",
      "source": [
        ""
      ],
      "metadata": {
        "id": "poNrUrjW5U9I"
      },
      "execution_count": null,
      "outputs": []
    }
  ]
}