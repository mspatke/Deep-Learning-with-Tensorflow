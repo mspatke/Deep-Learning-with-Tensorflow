{
  "nbformat": 4,
  "nbformat_minor": 0,
  "metadata": {
    "colab": {
      "name": "NLP_prepare_larger_text_corpus.ipynb",
      "private_outputs": true,
      "provenance": [],
      "authorship_tag": "ABX9TyMGDu62oTV4jnZBz9VqLmLn",
      "include_colab_link": true
    },
    "kernelspec": {
      "name": "python3",
      "display_name": "Python 3"
    },
    "language_info": {
      "name": "python"
    }
  },
  "cells": [
    {
      "cell_type": "markdown",
      "metadata": {
        "id": "view-in-github",
        "colab_type": "text"
      },
      "source": [
        "<a href=\"https://colab.research.google.com/github/mspatke/Deep-Learning-with-Tensorflow/blob/main/NLP_prepare_larger_text_corpus.ipynb\" target=\"_parent\"><img src=\"https://colab.research.google.com/assets/colab-badge.svg\" alt=\"Open In Colab\"/></a>"
      ]
    },
    {
      "cell_type": "code",
      "execution_count": null,
      "metadata": {
        "id": "vbSkE3juft_K"
      },
      "outputs": [],
      "source": [
        "# Import Tokenizer and pad_sequences\n",
        "import tensorflow as tf\n",
        "from tensorflow.keras.preprocessing.text import Tokenizer\n",
        "from tensorflow.keras.preprocessing.sequence import pad_sequences\n",
        "\n",
        "# Import numpy and pandas\n",
        "import numpy as np\n",
        "import pandas as pd\n"
      ]
    },
    {
      "cell_type": "code",
      "source": [
        "path = tf.keras.utils.get_file('reviews.csv', 'https://drive.google.com/uc?id=13ySLC_ue6Umt9RJYSeM2t-V0kCv-4C-P')"
      ],
      "metadata": {
        "id": "0XMwxMpYjqSZ"
      },
      "execution_count": null,
      "outputs": []
    },
    {
      "cell_type": "code",
      "source": [
        "# Read the csv file\n",
        "dataset = pd.read_csv(path)\n",
        "\n",
        "# Review the first few entries in the dataset\n",
        "dataset.head()"
      ],
      "metadata": {
        "id": "NdkjTifrkp80"
      },
      "execution_count": null,
      "outputs": []
    },
    {
      "cell_type": "code",
      "source": [
        "# Get the reviews from the text column\n",
        "reviews = dataset['text'].tolist()"
      ],
      "metadata": {
        "id": "LieezyorksvJ"
      },
      "execution_count": null,
      "outputs": []
    },
    {
      "cell_type": "code",
      "source": [
        "tokenizer = Tokenizer(oov_token=\"<OOV>\")\n",
        "tokenizer.fit_on_texts(reviews)\n",
        "\n",
        "word_index = tokenizer.word_index\n",
        "print(len(word_index))\n",
        "print(word_index)\n"
      ],
      "metadata": {
        "id": "6-F6p0sOneOK"
      },
      "execution_count": null,
      "outputs": []
    },
    {
      "cell_type": "code",
      "source": [
        "sequences = tokenizer.texts_to_sequences(reviews)\n",
        "padded_sequences = pad_sequences(sequences, padding='post')\n",
        "\n",
        "# What is the shape of the vector containing the padded sequences?\n",
        "# The shape shows the number of sequences and the length of each one.\n",
        "print(padded_sequences.shape)\n",
        "\n",
        "# What is the first review?\n",
        "print (reviews[0])\n",
        "\n",
        "# Show the sequence for the first review\n",
        "print(padded_sequences[0])\n",
        "\n",
        "# Try printing the review and padded sequence for other elements."
      ],
      "metadata": {
        "id": "nN0JgoSTnfuZ"
      },
      "execution_count": null,
      "outputs": []
    },
    {
      "cell_type": "code",
      "source": [
        ""
      ],
      "metadata": {
        "id": "fo70jcgfnhbm"
      },
      "execution_count": null,
      "outputs": []
    }
  ]
}